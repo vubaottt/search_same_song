{
 "cells": [
  {
   "cell_type": "code",
   "execution_count": 1,
   "metadata": {},
   "outputs": [],
   "source": [
    "from selenium import webdriver\n",
    "from selenium.common.exceptions import NoSuchElementException\n",
    "from selenium.webdriver.common.keys import Keys\n",
    "import time\n",
    "import pandas as pd"
   ]
  },
  {
   "cell_type": "code",
   "execution_count": 4,
   "metadata": {},
   "outputs": [],
   "source": [
    "driver = webdriver.Chrome()"
   ]
  },
  {
   "cell_type": "code",
   "execution_count": 5,
   "metadata": {},
   "outputs": [],
   "source": [
    "# Define url, output\n",
    "url1 = 'https://zingmp3.vn/tim-kiem/bai-hat?q=nhac+mua+xuan'\n",
    "output1 = 'spring_song.csv'\n",
    "\n",
    "url2 = 'https://zingmp3.vn/tim-kiem/bai-hat?q=nhac+mua+he'\n",
    "output2 = 'summer_song.csv'\n",
    "\n",
    "url3 = 'https://zingmp3.vn/tim-kiem/bai-hat?q=nhac+mua+dong'\n",
    "output3 = 'winter_song.csv'\n",
    "\n",
    "\n",
    "url = url3\n",
    "output = output3"
   ]
  },
  {
   "cell_type": "code",
   "execution_count": 6,
   "metadata": {},
   "outputs": [],
   "source": [
    "driver.get(url)\n",
    "time.sleep(3)"
   ]
  },
  {
   "cell_type": "code",
   "execution_count": 7,
   "metadata": {},
   "outputs": [],
   "source": [
    "# Focus list song\n",
    "items = driver.find_elements_by_class_name('list-item')\n",
    "btn_play = items[0].find_element_by_class_name('zm-actions-container')\n",
    "btn_play.click()\n",
    "time.sleep(1)"
   ]
  },
  {
   "cell_type": "code",
   "execution_count": 8,
   "metadata": {},
   "outputs": [],
   "source": [
    "# Scroll down list song\n",
    "for i in range(1, 100):\n",
    "    driver.find_element_by_css_selector('body').send_keys(Keys.DOWN)\n",
    "    time.sleep(0.5)\n",
    "    \n",
    "for i in range(1, 100):\n",
    "    driver.find_element_by_css_selector('body').send_keys(Keys.UP)\n",
    "    time.sleep(0.5)"
   ]
  },
  {
   "cell_type": "code",
   "execution_count": 9,
   "metadata": {},
   "outputs": [
    {
     "data": {
      "text/plain": [
       "92"
      ]
     },
     "execution_count": 9,
     "metadata": {},
     "output_type": "execute_result"
    }
   ],
   "source": [
    "#Get list song\n",
    "items = driver.find_elements_by_class_name('list-item')\n",
    "len(items)"
   ]
  },
  {
   "cell_type": "code",
   "execution_count": 13,
   "metadata": {},
   "outputs": [
    {
     "name": "stdout",
     "output_type": "stream",
     "text": [
      "Not exists\n",
      "Not exists\n"
     ]
    }
   ],
   "source": [
    "lyrics = []\n",
    "names = []\n",
    "singers = []\n",
    "name = \"\"\n",
    "lyric = \"\"\n",
    "singer = \"\"\n",
    "for item in items:\n",
    "    media_left = item.find_element_by_class_name('media-left')\n",
    "    card_info = media_left.find_element_by_class_name('card-info')\n",
    "    name = card_info.find_element_by_class_name('title').text\n",
    "    singer = card_info.find_element_by_class_name('subtitle').text\n",
    "    \n",
    "    if name not in names:\n",
    "        media_right = item.find_element_by_class_name('media-right')\n",
    "        ic_more = media_right.find_element_by_class_name('ic-more')\n",
    "        btn_more = ic_more.find_element_by_xpath('..')\n",
    "        btn_more.click()\n",
    "        time.sleep(2)\n",
    "\n",
    "        ic_add_lyric = driver.find_element_by_class_name('ic-add-lyric')\n",
    "        btn_lyric = ic_add_lyric.find_element_by_xpath('..')\n",
    "        btn_lyric.click()\n",
    "        time.sleep(2)\n",
    "\n",
    "        content = driver.find_element_by_class_name('content')\n",
    "        try:\n",
    "            lyric = content.find_element_by_xpath('//textarea').text\n",
    "            if len(lyric) > 0:\n",
    "                split = lyric.split('\\n')\n",
    "                if \"bài hát:\" in split[0].lower():\n",
    "                    lyric = lyric[len(split[0]) + 1:]\n",
    "                if \"ca sĩ:\" in split[1].lower():\n",
    "                    lyric = lyric[len(split[1]) + 1:]\n",
    "                lyric = lyric.replace(\"\\n\", \". \")\n",
    "                names.append(name.lower())\n",
    "                singers.append(singer.lower())\n",
    "                lyrics.append(lyric.lower())\n",
    "        except NoSuchElementException:\n",
    "            print(\"Not exists\")\n",
    "        foot = driver.find_element_by_class_name('modal-card-foot')\n",
    "        btn_close = foot.find_element_by_class_name('is-outlined')\n",
    "        btn_close.click()\n",
    "        time.sleep(2)"
   ]
  },
  {
   "cell_type": "code",
   "execution_count": 14,
   "metadata": {},
   "outputs": [],
   "source": [
    "dic = {\n",
    "    \"name\": names,\n",
    "    \"singer\": singers,\n",
    "    \"lyric\": lyrics\n",
    "}"
   ]
  },
  {
   "cell_type": "code",
   "execution_count": 15,
   "metadata": {},
   "outputs": [],
   "source": [
    "df = pd.DataFrame(dic)"
   ]
  },
  {
   "cell_type": "code",
   "execution_count": 16,
   "metadata": {},
   "outputs": [
    {
     "data": {
      "text/plain": [
       "56"
      ]
     },
     "execution_count": 16,
     "metadata": {},
     "output_type": "execute_result"
    }
   ],
   "source": [
    "len(df)"
   ]
  },
  {
   "cell_type": "code",
   "execution_count": 17,
   "metadata": {},
   "outputs": [],
   "source": [
    "df.to_csv(output, index = False)"
   ]
  }
 ],
 "metadata": {
  "kernelspec": {
   "display_name": "Python 3",
   "language": "python",
   "name": "python3"
  },
  "language_info": {
   "codemirror_mode": {
    "name": "ipython",
    "version": 3
   },
   "file_extension": ".py",
   "mimetype": "text/x-python",
   "name": "python",
   "nbconvert_exporter": "python",
   "pygments_lexer": "ipython3",
   "version": "3.7.6"
  }
 },
 "nbformat": 4,
 "nbformat_minor": 4
}
